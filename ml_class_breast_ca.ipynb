{
  "nbformat": 4,
  "nbformat_minor": 0,
  "metadata": {
    "colab": {
      "provenance": [],
      "collapsed_sections": [],
      "include_colab_link": true
    },
    "kernelspec": {
      "name": "python3",
      "display_name": "Python 3"
    },
    "language_info": {
      "name": "python"
    }
  },
  "cells": [
    {
      "cell_type": "markdown",
      "metadata": {
        "id": "view-in-github",
        "colab_type": "text"
      },
      "source": [
        "<a href=\"https://colab.research.google.com/github/echukwuka/Cookbook/blob/master/ml_class_breast_ca.ipynb\" target=\"_parent\"><img src=\"https://colab.research.google.com/assets/colab-badge.svg\" alt=\"Open In Colab\"/></a>"
      ]
    },
    {
      "cell_type": "markdown",
      "source": [
        "# **Predict Class of Breast Cancer**\n",
        "\n",
        "data:\"breast_cancer.csv\"\n",
        "\n",
        "Data size: approximately 683 individuals with different classes of ovarian cancer :\n",
        "\n",
        "**Class** : severity\n",
        "\n",
        "**age** \n",
        "\n",
        "**menopause** \n",
        "\n",
        "**tumor-size** \n",
        "\n",
        "**inv-nodes**\n",
        "\n",
        "**node-caps**\n",
        "       \n",
        "**deg-malig** \n",
        "\n",
        "**breast**, \n",
        "\n",
        "**breast-quad** \n",
        "\n",
        "**irradiat**\n"
      ],
      "metadata": {
        "id": "7e6aGi4-vZ75"
      }
    },
    {
      "cell_type": "code",
      "source": [
        "from google.colab import drive\n",
        "drive.mount('/content/drive')"
      ],
      "metadata": {
        "colab": {
          "base_uri": "https://localhost:8080/"
        },
        "id": "V1eXRyGNlt2i",
        "outputId": "ff70f426-4cb7-423a-9ae3-f33d5678e1ba"
      },
      "execution_count": 1,
      "outputs": [
        {
          "output_type": "stream",
          "name": "stdout",
          "text": [
            "Mounted at /content/drive\n"
          ]
        }
      ]
    },
    {
      "cell_type": "markdown",
      "source": [
        "#Import data and preview"
      ],
      "metadata": {
        "id": "0RAW2kRcvdxW"
      }
    },
    {
      "cell_type": "code",
      "execution_count": 8,
      "metadata": {
        "colab": {
          "base_uri": "https://localhost:8080/",
          "height": 206
        },
        "id": "JgSWp1XKuE3e",
        "outputId": "6f874ca0-b0c1-4ea2-9036-27c5682221af"
      },
      "outputs": [
        {
          "output_type": "execute_result",
          "data": {
            "text/plain": [
              "   Class  age  menopause  tumor-size  inv-nodes  node-caps  deg-malig  breast  \\\n",
              "0      0    5          1           1          1          2          1       3   \n",
              "1      0    5          4           4          5          7         10       3   \n",
              "2      0    3          1           1          1          2          2       3   \n",
              "3      0    6          8           8          1          3          4       3   \n",
              "4      0    4          1           1          3          2          1       3   \n",
              "\n",
              "   breast-quad  irradiat  \n",
              "0            1         1  \n",
              "1            2         1  \n",
              "2            1         1  \n",
              "3            7         1  \n",
              "4            1         1  "
            ],
            "text/html": [
              "\n",
              "  <div id=\"df-cd901761-33a9-469f-9e3d-424d6b70b106\">\n",
              "    <div class=\"colab-df-container\">\n",
              "      <div>\n",
              "<style scoped>\n",
              "    .dataframe tbody tr th:only-of-type {\n",
              "        vertical-align: middle;\n",
              "    }\n",
              "\n",
              "    .dataframe tbody tr th {\n",
              "        vertical-align: top;\n",
              "    }\n",
              "\n",
              "    .dataframe thead th {\n",
              "        text-align: right;\n",
              "    }\n",
              "</style>\n",
              "<table border=\"1\" class=\"dataframe\">\n",
              "  <thead>\n",
              "    <tr style=\"text-align: right;\">\n",
              "      <th></th>\n",
              "      <th>Class</th>\n",
              "      <th>age</th>\n",
              "      <th>menopause</th>\n",
              "      <th>tumor-size</th>\n",
              "      <th>inv-nodes</th>\n",
              "      <th>node-caps</th>\n",
              "      <th>deg-malig</th>\n",
              "      <th>breast</th>\n",
              "      <th>breast-quad</th>\n",
              "      <th>irradiat</th>\n",
              "    </tr>\n",
              "  </thead>\n",
              "  <tbody>\n",
              "    <tr>\n",
              "      <th>0</th>\n",
              "      <td>0</td>\n",
              "      <td>5</td>\n",
              "      <td>1</td>\n",
              "      <td>1</td>\n",
              "      <td>1</td>\n",
              "      <td>2</td>\n",
              "      <td>1</td>\n",
              "      <td>3</td>\n",
              "      <td>1</td>\n",
              "      <td>1</td>\n",
              "    </tr>\n",
              "    <tr>\n",
              "      <th>1</th>\n",
              "      <td>0</td>\n",
              "      <td>5</td>\n",
              "      <td>4</td>\n",
              "      <td>4</td>\n",
              "      <td>5</td>\n",
              "      <td>7</td>\n",
              "      <td>10</td>\n",
              "      <td>3</td>\n",
              "      <td>2</td>\n",
              "      <td>1</td>\n",
              "    </tr>\n",
              "    <tr>\n",
              "      <th>2</th>\n",
              "      <td>0</td>\n",
              "      <td>3</td>\n",
              "      <td>1</td>\n",
              "      <td>1</td>\n",
              "      <td>1</td>\n",
              "      <td>2</td>\n",
              "      <td>2</td>\n",
              "      <td>3</td>\n",
              "      <td>1</td>\n",
              "      <td>1</td>\n",
              "    </tr>\n",
              "    <tr>\n",
              "      <th>3</th>\n",
              "      <td>0</td>\n",
              "      <td>6</td>\n",
              "      <td>8</td>\n",
              "      <td>8</td>\n",
              "      <td>1</td>\n",
              "      <td>3</td>\n",
              "      <td>4</td>\n",
              "      <td>3</td>\n",
              "      <td>7</td>\n",
              "      <td>1</td>\n",
              "    </tr>\n",
              "    <tr>\n",
              "      <th>4</th>\n",
              "      <td>0</td>\n",
              "      <td>4</td>\n",
              "      <td>1</td>\n",
              "      <td>1</td>\n",
              "      <td>3</td>\n",
              "      <td>2</td>\n",
              "      <td>1</td>\n",
              "      <td>3</td>\n",
              "      <td>1</td>\n",
              "      <td>1</td>\n",
              "    </tr>\n",
              "  </tbody>\n",
              "</table>\n",
              "</div>\n",
              "      <button class=\"colab-df-convert\" onclick=\"convertToInteractive('df-cd901761-33a9-469f-9e3d-424d6b70b106')\"\n",
              "              title=\"Convert this dataframe to an interactive table.\"\n",
              "              style=\"display:none;\">\n",
              "        \n",
              "  <svg xmlns=\"http://www.w3.org/2000/svg\" height=\"24px\"viewBox=\"0 0 24 24\"\n",
              "       width=\"24px\">\n",
              "    <path d=\"M0 0h24v24H0V0z\" fill=\"none\"/>\n",
              "    <path d=\"M18.56 5.44l.94 2.06.94-2.06 2.06-.94-2.06-.94-.94-2.06-.94 2.06-2.06.94zm-11 1L8.5 8.5l.94-2.06 2.06-.94-2.06-.94L8.5 2.5l-.94 2.06-2.06.94zm10 10l.94 2.06.94-2.06 2.06-.94-2.06-.94-.94-2.06-.94 2.06-2.06.94z\"/><path d=\"M17.41 7.96l-1.37-1.37c-.4-.4-.92-.59-1.43-.59-.52 0-1.04.2-1.43.59L10.3 9.45l-7.72 7.72c-.78.78-.78 2.05 0 2.83L4 21.41c.39.39.9.59 1.41.59.51 0 1.02-.2 1.41-.59l7.78-7.78 2.81-2.81c.8-.78.8-2.07 0-2.86zM5.41 20L4 18.59l7.72-7.72 1.47 1.35L5.41 20z\"/>\n",
              "  </svg>\n",
              "      </button>\n",
              "      \n",
              "  <style>\n",
              "    .colab-df-container {\n",
              "      display:flex;\n",
              "      flex-wrap:wrap;\n",
              "      gap: 12px;\n",
              "    }\n",
              "\n",
              "    .colab-df-convert {\n",
              "      background-color: #E8F0FE;\n",
              "      border: none;\n",
              "      border-radius: 50%;\n",
              "      cursor: pointer;\n",
              "      display: none;\n",
              "      fill: #1967D2;\n",
              "      height: 32px;\n",
              "      padding: 0 0 0 0;\n",
              "      width: 32px;\n",
              "    }\n",
              "\n",
              "    .colab-df-convert:hover {\n",
              "      background-color: #E2EBFA;\n",
              "      box-shadow: 0px 1px 2px rgba(60, 64, 67, 0.3), 0px 1px 3px 1px rgba(60, 64, 67, 0.15);\n",
              "      fill: #174EA6;\n",
              "    }\n",
              "\n",
              "    [theme=dark] .colab-df-convert {\n",
              "      background-color: #3B4455;\n",
              "      fill: #D2E3FC;\n",
              "    }\n",
              "\n",
              "    [theme=dark] .colab-df-convert:hover {\n",
              "      background-color: #434B5C;\n",
              "      box-shadow: 0px 1px 3px 1px rgba(0, 0, 0, 0.15);\n",
              "      filter: drop-shadow(0px 1px 2px rgba(0, 0, 0, 0.3));\n",
              "      fill: #FFFFFF;\n",
              "    }\n",
              "  </style>\n",
              "\n",
              "      <script>\n",
              "        const buttonEl =\n",
              "          document.querySelector('#df-cd901761-33a9-469f-9e3d-424d6b70b106 button.colab-df-convert');\n",
              "        buttonEl.style.display =\n",
              "          google.colab.kernel.accessAllowed ? 'block' : 'none';\n",
              "\n",
              "        async function convertToInteractive(key) {\n",
              "          const element = document.querySelector('#df-cd901761-33a9-469f-9e3d-424d6b70b106');\n",
              "          const dataTable =\n",
              "            await google.colab.kernel.invokeFunction('convertToInteractive',\n",
              "                                                     [key], {});\n",
              "          if (!dataTable) return;\n",
              "\n",
              "          const docLinkHtml = 'Like what you see? Visit the ' +\n",
              "            '<a target=\"_blank\" href=https://colab.research.google.com/notebooks/data_table.ipynb>data table notebook</a>'\n",
              "            + ' to learn more about interactive tables.';\n",
              "          element.innerHTML = '';\n",
              "          dataTable['output_type'] = 'display_data';\n",
              "          await google.colab.output.renderOutput(dataTable, element);\n",
              "          const docLink = document.createElement('div');\n",
              "          docLink.innerHTML = docLinkHtml;\n",
              "          element.appendChild(docLink);\n",
              "        }\n",
              "      </script>\n",
              "    </div>\n",
              "  </div>\n",
              "  "
            ]
          },
          "metadata": {},
          "execution_count": 8
        }
      ],
      "source": [
        "## Load modules and libraries\n",
        "import numpy as np \n",
        "import pandas as pd \n",
        "\n",
        "## Datapath\n",
        "datapath = '/content/drive/MyDrive/heamatology_fellows/breast_cancer.csv'\n",
        "\n",
        "## Load data\n",
        "df = pd.read_table(datapath, sep=',', header=(0)) \n",
        "\n",
        "## Display first few lines of the data\n",
        "df.head()"
      ]
    },
    {
      "cell_type": "markdown",
      "source": [
        "#Exploratory data analysis"
      ],
      "metadata": {
        "id": "nyS5zs2zPQhA"
      }
    },
    {
      "cell_type": "code",
      "source": [
        "df.info()"
      ],
      "metadata": {
        "colab": {
          "base_uri": "https://localhost:8080/"
        },
        "id": "OHf1Fz0guQDv",
        "outputId": "b78b723b-b467-4390-dc61-48b17cc5557c"
      },
      "execution_count": 24,
      "outputs": [
        {
          "output_type": "stream",
          "name": "stdout",
          "text": [
            "<class 'pandas.core.frame.DataFrame'>\n",
            "RangeIndex: 683 entries, 0 to 682\n",
            "Data columns (total 10 columns):\n",
            " #   Column       Non-Null Count  Dtype\n",
            "---  ------       --------------  -----\n",
            " 0   Class        683 non-null    int64\n",
            " 1   age          683 non-null    int64\n",
            " 2   menopause    683 non-null    int64\n",
            " 3   tumor-size   683 non-null    int64\n",
            " 4   inv-nodes    683 non-null    int64\n",
            " 5   node-caps    683 non-null    int64\n",
            " 6   deg-malig    683 non-null    int64\n",
            " 7   breast       683 non-null    int64\n",
            " 8   breast-quad  683 non-null    int64\n",
            " 9   irradiat     683 non-null    int64\n",
            "dtypes: int64(10)\n",
            "memory usage: 53.5 KB\n"
          ]
        }
      ]
    },
    {
      "cell_type": "markdown",
      "source": [
        "## Column Data Types"
      ],
      "metadata": {
        "id": "1y5FkZAwYY_t"
      }
    },
    {
      "cell_type": "code",
      "source": [
        "df.columns"
      ],
      "metadata": {
        "colab": {
          "base_uri": "https://localhost:8080/"
        },
        "id": "qNkKYTCFt_Zx",
        "outputId": "0d9f0feb-741c-404c-c684-2f353b1643bf"
      },
      "execution_count": 23,
      "outputs": [
        {
          "output_type": "execute_result",
          "data": {
            "text/plain": [
              "Index(['Class', 'age', 'menopause', 'tumor-size', 'inv-nodes', 'node-caps',\n",
              "       'deg-malig', 'breast', 'breast-quad', 'irradiat'],\n",
              "      dtype='object')"
            ]
          },
          "metadata": {},
          "execution_count": 23
        }
      ]
    },
    {
      "cell_type": "markdown",
      "source": [
        "## Make the statistical summary presentable"
      ],
      "metadata": {
        "id": "tsif7s-OYqo4"
      }
    },
    {
      "cell_type": "markdown",
      "source": [
        "## Summary of categories target columns (Class)\n",
        "Cound the number of yes and NO in each of the respective columns"
      ],
      "metadata": {
        "id": "HLZqpUC7YvNq"
      }
    },
    {
      "cell_type": "code",
      "source": [
        "df.shape"
      ],
      "metadata": {
        "colab": {
          "base_uri": "https://localhost:8080/"
        },
        "id": "GFk0pFBHkGfD",
        "outputId": "3e8488db-a673-4bca-8e42-038910b306c6"
      },
      "execution_count": 17,
      "outputs": [
        {
          "output_type": "execute_result",
          "data": {
            "text/plain": [
              "(683, 10)"
            ]
          },
          "metadata": {},
          "execution_count": 17
        }
      ]
    },
    {
      "cell_type": "code",
      "source": [
        "# Count the number of unique Class\n",
        "df['Class'].value_counts()\n",
        "#df['HeartDisease'].value_counts().sum()"
      ],
      "metadata": {
        "colab": {
          "base_uri": "https://localhost:8080/"
        },
        "id": "lkxmFFEhY7ha",
        "outputId": "06c1a78f-4fc6-4b46-f4d3-b0f254b859a8"
      },
      "execution_count": 18,
      "outputs": [
        {
          "output_type": "execute_result",
          "data": {
            "text/plain": [
              "0    444\n",
              "1    239\n",
              "Name: Class, dtype: int64"
            ]
          },
          "metadata": {},
          "execution_count": 18
        }
      ]
    },
    {
      "cell_type": "markdown",
      "source": [
        "## Summary of different factors and their association with the class of breast cancer\n",
        "Two factor and multilevel associations"
      ],
      "metadata": {
        "id": "JQAeq8zBZL79"
      }
    },
    {
      "cell_type": "markdown",
      "source": [
        "crosstab function enables making simple to complex counting of categorical columns according to an index and their related columns.\n"
      ],
      "metadata": {
        "id": "JUM3UecvZY4M"
      }
    },
    {
      "cell_type": "code",
      "source": [
        "pd.crosstab(df['Class'], df['tumor-size'], margins=True)"
      ],
      "metadata": {
        "colab": {
          "base_uri": "https://localhost:8080/",
          "height": 175
        },
        "id": "b7cdArOmlKYu",
        "outputId": "a5ff770f-f4e2-4c0e-da23-4197eab0e54a"
      },
      "execution_count": 25,
      "outputs": [
        {
          "output_type": "execute_result",
          "data": {
            "text/plain": [
              "tumor-size    1   2   3   4   5   6   7   8  9  10  All\n",
              "Class                                                  \n",
              "0           344  51  30  12   2   2   2   1  0   0  444\n",
              "1             2   7  23  31  30  27  28  26  7  58  239\n",
              "All         346  58  53  43  32  29  30  27  7  58  683"
            ],
            "text/html": [
              "\n",
              "  <div id=\"df-c9a76e5c-d835-4e1b-8664-5b088a5f7ddd\">\n",
              "    <div class=\"colab-df-container\">\n",
              "      <div>\n",
              "<style scoped>\n",
              "    .dataframe tbody tr th:only-of-type {\n",
              "        vertical-align: middle;\n",
              "    }\n",
              "\n",
              "    .dataframe tbody tr th {\n",
              "        vertical-align: top;\n",
              "    }\n",
              "\n",
              "    .dataframe thead th {\n",
              "        text-align: right;\n",
              "    }\n",
              "</style>\n",
              "<table border=\"1\" class=\"dataframe\">\n",
              "  <thead>\n",
              "    <tr style=\"text-align: right;\">\n",
              "      <th>tumor-size</th>\n",
              "      <th>1</th>\n",
              "      <th>2</th>\n",
              "      <th>3</th>\n",
              "      <th>4</th>\n",
              "      <th>5</th>\n",
              "      <th>6</th>\n",
              "      <th>7</th>\n",
              "      <th>8</th>\n",
              "      <th>9</th>\n",
              "      <th>10</th>\n",
              "      <th>All</th>\n",
              "    </tr>\n",
              "    <tr>\n",
              "      <th>Class</th>\n",
              "      <th></th>\n",
              "      <th></th>\n",
              "      <th></th>\n",
              "      <th></th>\n",
              "      <th></th>\n",
              "      <th></th>\n",
              "      <th></th>\n",
              "      <th></th>\n",
              "      <th></th>\n",
              "      <th></th>\n",
              "      <th></th>\n",
              "    </tr>\n",
              "  </thead>\n",
              "  <tbody>\n",
              "    <tr>\n",
              "      <th>0</th>\n",
              "      <td>344</td>\n",
              "      <td>51</td>\n",
              "      <td>30</td>\n",
              "      <td>12</td>\n",
              "      <td>2</td>\n",
              "      <td>2</td>\n",
              "      <td>2</td>\n",
              "      <td>1</td>\n",
              "      <td>0</td>\n",
              "      <td>0</td>\n",
              "      <td>444</td>\n",
              "    </tr>\n",
              "    <tr>\n",
              "      <th>1</th>\n",
              "      <td>2</td>\n",
              "      <td>7</td>\n",
              "      <td>23</td>\n",
              "      <td>31</td>\n",
              "      <td>30</td>\n",
              "      <td>27</td>\n",
              "      <td>28</td>\n",
              "      <td>26</td>\n",
              "      <td>7</td>\n",
              "      <td>58</td>\n",
              "      <td>239</td>\n",
              "    </tr>\n",
              "    <tr>\n",
              "      <th>All</th>\n",
              "      <td>346</td>\n",
              "      <td>58</td>\n",
              "      <td>53</td>\n",
              "      <td>43</td>\n",
              "      <td>32</td>\n",
              "      <td>29</td>\n",
              "      <td>30</td>\n",
              "      <td>27</td>\n",
              "      <td>7</td>\n",
              "      <td>58</td>\n",
              "      <td>683</td>\n",
              "    </tr>\n",
              "  </tbody>\n",
              "</table>\n",
              "</div>\n",
              "      <button class=\"colab-df-convert\" onclick=\"convertToInteractive('df-c9a76e5c-d835-4e1b-8664-5b088a5f7ddd')\"\n",
              "              title=\"Convert this dataframe to an interactive table.\"\n",
              "              style=\"display:none;\">\n",
              "        \n",
              "  <svg xmlns=\"http://www.w3.org/2000/svg\" height=\"24px\"viewBox=\"0 0 24 24\"\n",
              "       width=\"24px\">\n",
              "    <path d=\"M0 0h24v24H0V0z\" fill=\"none\"/>\n",
              "    <path d=\"M18.56 5.44l.94 2.06.94-2.06 2.06-.94-2.06-.94-.94-2.06-.94 2.06-2.06.94zm-11 1L8.5 8.5l.94-2.06 2.06-.94-2.06-.94L8.5 2.5l-.94 2.06-2.06.94zm10 10l.94 2.06.94-2.06 2.06-.94-2.06-.94-.94-2.06-.94 2.06-2.06.94z\"/><path d=\"M17.41 7.96l-1.37-1.37c-.4-.4-.92-.59-1.43-.59-.52 0-1.04.2-1.43.59L10.3 9.45l-7.72 7.72c-.78.78-.78 2.05 0 2.83L4 21.41c.39.39.9.59 1.41.59.51 0 1.02-.2 1.41-.59l7.78-7.78 2.81-2.81c.8-.78.8-2.07 0-2.86zM5.41 20L4 18.59l7.72-7.72 1.47 1.35L5.41 20z\"/>\n",
              "  </svg>\n",
              "      </button>\n",
              "      \n",
              "  <style>\n",
              "    .colab-df-container {\n",
              "      display:flex;\n",
              "      flex-wrap:wrap;\n",
              "      gap: 12px;\n",
              "    }\n",
              "\n",
              "    .colab-df-convert {\n",
              "      background-color: #E8F0FE;\n",
              "      border: none;\n",
              "      border-radius: 50%;\n",
              "      cursor: pointer;\n",
              "      display: none;\n",
              "      fill: #1967D2;\n",
              "      height: 32px;\n",
              "      padding: 0 0 0 0;\n",
              "      width: 32px;\n",
              "    }\n",
              "\n",
              "    .colab-df-convert:hover {\n",
              "      background-color: #E2EBFA;\n",
              "      box-shadow: 0px 1px 2px rgba(60, 64, 67, 0.3), 0px 1px 3px 1px rgba(60, 64, 67, 0.15);\n",
              "      fill: #174EA6;\n",
              "    }\n",
              "\n",
              "    [theme=dark] .colab-df-convert {\n",
              "      background-color: #3B4455;\n",
              "      fill: #D2E3FC;\n",
              "    }\n",
              "\n",
              "    [theme=dark] .colab-df-convert:hover {\n",
              "      background-color: #434B5C;\n",
              "      box-shadow: 0px 1px 3px 1px rgba(0, 0, 0, 0.15);\n",
              "      filter: drop-shadow(0px 1px 2px rgba(0, 0, 0, 0.3));\n",
              "      fill: #FFFFFF;\n",
              "    }\n",
              "  </style>\n",
              "\n",
              "      <script>\n",
              "        const buttonEl =\n",
              "          document.querySelector('#df-c9a76e5c-d835-4e1b-8664-5b088a5f7ddd button.colab-df-convert');\n",
              "        buttonEl.style.display =\n",
              "          google.colab.kernel.accessAllowed ? 'block' : 'none';\n",
              "\n",
              "        async function convertToInteractive(key) {\n",
              "          const element = document.querySelector('#df-c9a76e5c-d835-4e1b-8664-5b088a5f7ddd');\n",
              "          const dataTable =\n",
              "            await google.colab.kernel.invokeFunction('convertToInteractive',\n",
              "                                                     [key], {});\n",
              "          if (!dataTable) return;\n",
              "\n",
              "          const docLinkHtml = 'Like what you see? Visit the ' +\n",
              "            '<a target=\"_blank\" href=https://colab.research.google.com/notebooks/data_table.ipynb>data table notebook</a>'\n",
              "            + ' to learn more about interactive tables.';\n",
              "          element.innerHTML = '';\n",
              "          dataTable['output_type'] = 'display_data';\n",
              "          await google.colab.output.renderOutput(dataTable, element);\n",
              "          const docLink = document.createElement('div');\n",
              "          docLink.innerHTML = docLinkHtml;\n",
              "          element.appendChild(docLink);\n",
              "        }\n",
              "      </script>\n",
              "    </div>\n",
              "  </div>\n",
              "  "
            ]
          },
          "metadata": {},
          "execution_count": 25
        }
      ]
    },
    {
      "cell_type": "code",
      "source": [
        "pd.crosstab(df['Class'],\n",
        "            df['tumor-size'], \n",
        "            margins=True).style.background_gradient(cmap='Reds')"
      ],
      "metadata": {
        "colab": {
          "base_uri": "https://localhost:8080/",
          "height": 175
        },
        "id": "qTmEM1Kq4efU",
        "outputId": "29794a3d-11aa-474a-fd3d-5bca82381fce"
      },
      "execution_count": 26,
      "outputs": [
        {
          "output_type": "execute_result",
          "data": {
            "text/plain": [
              "<pandas.io.formats.style.Styler at 0x7f2c0823b150>"
            ],
            "text/html": [
              "<style type=\"text/css\">\n",
              "#T_5abac_row0_col0 {\n",
              "  background-color: #69000d;\n",
              "  color: #f1f1f1;\n",
              "}\n",
              "#T_5abac_row0_col1 {\n",
              "  background-color: #a91016;\n",
              "  color: #f1f1f1;\n",
              "}\n",
              "#T_5abac_row0_col2 {\n",
              "  background-color: #fcc1a8;\n",
              "  color: #000000;\n",
              "}\n",
              "#T_5abac_row0_col3, #T_5abac_row0_col4, #T_5abac_row0_col5, #T_5abac_row0_col6, #T_5abac_row0_col7, #T_5abac_row0_col8, #T_5abac_row0_col9, #T_5abac_row1_col0, #T_5abac_row1_col1, #T_5abac_row1_col2, #T_5abac_row1_col10 {\n",
              "  background-color: #fff5f0;\n",
              "  color: #000000;\n",
              "}\n",
              "#T_5abac_row0_col10 {\n",
              "  background-color: #fb7656;\n",
              "  color: #f1f1f1;\n",
              "}\n",
              "#T_5abac_row1_col3 {\n",
              "  background-color: #f0402f;\n",
              "  color: #f1f1f1;\n",
              "}\n",
              "#T_5abac_row1_col4 {\n",
              "  background-color: #880811;\n",
              "  color: #f1f1f1;\n",
              "}\n",
              "#T_5abac_row1_col5, #T_5abac_row1_col6 {\n",
              "  background-color: #8a0812;\n",
              "  color: #f1f1f1;\n",
              "}\n",
              "#T_5abac_row1_col7 {\n",
              "  background-color: #79040f;\n",
              "  color: #f1f1f1;\n",
              "}\n",
              "#T_5abac_row1_col8, #T_5abac_row1_col9, #T_5abac_row2_col0, #T_5abac_row2_col1, #T_5abac_row2_col2, #T_5abac_row2_col3, #T_5abac_row2_col4, #T_5abac_row2_col5, #T_5abac_row2_col6, #T_5abac_row2_col7, #T_5abac_row2_col8, #T_5abac_row2_col9, #T_5abac_row2_col10 {\n",
              "  background-color: #67000d;\n",
              "  color: #f1f1f1;\n",
              "}\n",
              "</style>\n",
              "<table id=\"T_5abac_\" class=\"dataframe\">\n",
              "  <thead>\n",
              "    <tr>\n",
              "      <th class=\"index_name level0\" >tumor-size</th>\n",
              "      <th class=\"col_heading level0 col0\" >1</th>\n",
              "      <th class=\"col_heading level0 col1\" >2</th>\n",
              "      <th class=\"col_heading level0 col2\" >3</th>\n",
              "      <th class=\"col_heading level0 col3\" >4</th>\n",
              "      <th class=\"col_heading level0 col4\" >5</th>\n",
              "      <th class=\"col_heading level0 col5\" >6</th>\n",
              "      <th class=\"col_heading level0 col6\" >7</th>\n",
              "      <th class=\"col_heading level0 col7\" >8</th>\n",
              "      <th class=\"col_heading level0 col8\" >9</th>\n",
              "      <th class=\"col_heading level0 col9\" >10</th>\n",
              "      <th class=\"col_heading level0 col10\" >All</th>\n",
              "    </tr>\n",
              "    <tr>\n",
              "      <th class=\"index_name level0\" >Class</th>\n",
              "      <th class=\"blank col0\" >&nbsp;</th>\n",
              "      <th class=\"blank col1\" >&nbsp;</th>\n",
              "      <th class=\"blank col2\" >&nbsp;</th>\n",
              "      <th class=\"blank col3\" >&nbsp;</th>\n",
              "      <th class=\"blank col4\" >&nbsp;</th>\n",
              "      <th class=\"blank col5\" >&nbsp;</th>\n",
              "      <th class=\"blank col6\" >&nbsp;</th>\n",
              "      <th class=\"blank col7\" >&nbsp;</th>\n",
              "      <th class=\"blank col8\" >&nbsp;</th>\n",
              "      <th class=\"blank col9\" >&nbsp;</th>\n",
              "      <th class=\"blank col10\" >&nbsp;</th>\n",
              "    </tr>\n",
              "  </thead>\n",
              "  <tbody>\n",
              "    <tr>\n",
              "      <th id=\"T_5abac_level0_row0\" class=\"row_heading level0 row0\" >0</th>\n",
              "      <td id=\"T_5abac_row0_col0\" class=\"data row0 col0\" >344</td>\n",
              "      <td id=\"T_5abac_row0_col1\" class=\"data row0 col1\" >51</td>\n",
              "      <td id=\"T_5abac_row0_col2\" class=\"data row0 col2\" >30</td>\n",
              "      <td id=\"T_5abac_row0_col3\" class=\"data row0 col3\" >12</td>\n",
              "      <td id=\"T_5abac_row0_col4\" class=\"data row0 col4\" >2</td>\n",
              "      <td id=\"T_5abac_row0_col5\" class=\"data row0 col5\" >2</td>\n",
              "      <td id=\"T_5abac_row0_col6\" class=\"data row0 col6\" >2</td>\n",
              "      <td id=\"T_5abac_row0_col7\" class=\"data row0 col7\" >1</td>\n",
              "      <td id=\"T_5abac_row0_col8\" class=\"data row0 col8\" >0</td>\n",
              "      <td id=\"T_5abac_row0_col9\" class=\"data row0 col9\" >0</td>\n",
              "      <td id=\"T_5abac_row0_col10\" class=\"data row0 col10\" >444</td>\n",
              "    </tr>\n",
              "    <tr>\n",
              "      <th id=\"T_5abac_level0_row1\" class=\"row_heading level0 row1\" >1</th>\n",
              "      <td id=\"T_5abac_row1_col0\" class=\"data row1 col0\" >2</td>\n",
              "      <td id=\"T_5abac_row1_col1\" class=\"data row1 col1\" >7</td>\n",
              "      <td id=\"T_5abac_row1_col2\" class=\"data row1 col2\" >23</td>\n",
              "      <td id=\"T_5abac_row1_col3\" class=\"data row1 col3\" >31</td>\n",
              "      <td id=\"T_5abac_row1_col4\" class=\"data row1 col4\" >30</td>\n",
              "      <td id=\"T_5abac_row1_col5\" class=\"data row1 col5\" >27</td>\n",
              "      <td id=\"T_5abac_row1_col6\" class=\"data row1 col6\" >28</td>\n",
              "      <td id=\"T_5abac_row1_col7\" class=\"data row1 col7\" >26</td>\n",
              "      <td id=\"T_5abac_row1_col8\" class=\"data row1 col8\" >7</td>\n",
              "      <td id=\"T_5abac_row1_col9\" class=\"data row1 col9\" >58</td>\n",
              "      <td id=\"T_5abac_row1_col10\" class=\"data row1 col10\" >239</td>\n",
              "    </tr>\n",
              "    <tr>\n",
              "      <th id=\"T_5abac_level0_row2\" class=\"row_heading level0 row2\" >All</th>\n",
              "      <td id=\"T_5abac_row2_col0\" class=\"data row2 col0\" >346</td>\n",
              "      <td id=\"T_5abac_row2_col1\" class=\"data row2 col1\" >58</td>\n",
              "      <td id=\"T_5abac_row2_col2\" class=\"data row2 col2\" >53</td>\n",
              "      <td id=\"T_5abac_row2_col3\" class=\"data row2 col3\" >43</td>\n",
              "      <td id=\"T_5abac_row2_col4\" class=\"data row2 col4\" >32</td>\n",
              "      <td id=\"T_5abac_row2_col5\" class=\"data row2 col5\" >29</td>\n",
              "      <td id=\"T_5abac_row2_col6\" class=\"data row2 col6\" >30</td>\n",
              "      <td id=\"T_5abac_row2_col7\" class=\"data row2 col7\" >27</td>\n",
              "      <td id=\"T_5abac_row2_col8\" class=\"data row2 col8\" >7</td>\n",
              "      <td id=\"T_5abac_row2_col9\" class=\"data row2 col9\" >58</td>\n",
              "      <td id=\"T_5abac_row2_col10\" class=\"data row2 col10\" >683</td>\n",
              "    </tr>\n",
              "  </tbody>\n",
              "</table>\n"
            ]
          },
          "metadata": {},
          "execution_count": 26
        }
      ]
    },
    {
      "cell_type": "markdown",
      "source": [
        "### Normalize by row\n",
        "How many of the Heart Disease patients have a smoking history? "
      ],
      "metadata": {
        "id": "nhzLAiR3cjxs"
      }
    },
    {
      "cell_type": "code",
      "source": [
        "pd.crosstab(index=df['Class'],\n",
        "            columns=df['menopause'], \n",
        "            margins=True, normalize = 'index')"
      ],
      "metadata": {
        "colab": {
          "base_uri": "https://localhost:8080/",
          "height": 175
        },
        "id": "73viNRBNl-rU",
        "outputId": "d06a7546-928d-467b-b180-096fe2b86be7"
      },
      "execution_count": 27,
      "outputs": [
        {
          "output_type": "execute_result",
          "data": {
            "text/plain": [
              "menopause         1         2         3         4         5         6  \\\n",
              "Class                                                                   \n",
              "0          0.831081  0.083333  0.060811  0.018018  0.000000  0.000000   \n",
              "1          0.016736  0.033473  0.104603  0.125523  0.125523  0.104603   \n",
              "All        0.546120  0.065886  0.076135  0.055637  0.043924  0.036603   \n",
              "\n",
              "menopause         7         8         9        10  \n",
              "Class                                              \n",
              "0          0.002252  0.002252  0.002252  0.000000  \n",
              "1          0.075314  0.112971  0.020921  0.280335  \n",
              "All        0.027818  0.040996  0.008785  0.098097  "
            ],
            "text/html": [
              "\n",
              "  <div id=\"df-405c0283-e455-4710-a9cf-549a6e58be2a\">\n",
              "    <div class=\"colab-df-container\">\n",
              "      <div>\n",
              "<style scoped>\n",
              "    .dataframe tbody tr th:only-of-type {\n",
              "        vertical-align: middle;\n",
              "    }\n",
              "\n",
              "    .dataframe tbody tr th {\n",
              "        vertical-align: top;\n",
              "    }\n",
              "\n",
              "    .dataframe thead th {\n",
              "        text-align: right;\n",
              "    }\n",
              "</style>\n",
              "<table border=\"1\" class=\"dataframe\">\n",
              "  <thead>\n",
              "    <tr style=\"text-align: right;\">\n",
              "      <th>menopause</th>\n",
              "      <th>1</th>\n",
              "      <th>2</th>\n",
              "      <th>3</th>\n",
              "      <th>4</th>\n",
              "      <th>5</th>\n",
              "      <th>6</th>\n",
              "      <th>7</th>\n",
              "      <th>8</th>\n",
              "      <th>9</th>\n",
              "      <th>10</th>\n",
              "    </tr>\n",
              "    <tr>\n",
              "      <th>Class</th>\n",
              "      <th></th>\n",
              "      <th></th>\n",
              "      <th></th>\n",
              "      <th></th>\n",
              "      <th></th>\n",
              "      <th></th>\n",
              "      <th></th>\n",
              "      <th></th>\n",
              "      <th></th>\n",
              "      <th></th>\n",
              "    </tr>\n",
              "  </thead>\n",
              "  <tbody>\n",
              "    <tr>\n",
              "      <th>0</th>\n",
              "      <td>0.831081</td>\n",
              "      <td>0.083333</td>\n",
              "      <td>0.060811</td>\n",
              "      <td>0.018018</td>\n",
              "      <td>0.000000</td>\n",
              "      <td>0.000000</td>\n",
              "      <td>0.002252</td>\n",
              "      <td>0.002252</td>\n",
              "      <td>0.002252</td>\n",
              "      <td>0.000000</td>\n",
              "    </tr>\n",
              "    <tr>\n",
              "      <th>1</th>\n",
              "      <td>0.016736</td>\n",
              "      <td>0.033473</td>\n",
              "      <td>0.104603</td>\n",
              "      <td>0.125523</td>\n",
              "      <td>0.125523</td>\n",
              "      <td>0.104603</td>\n",
              "      <td>0.075314</td>\n",
              "      <td>0.112971</td>\n",
              "      <td>0.020921</td>\n",
              "      <td>0.280335</td>\n",
              "    </tr>\n",
              "    <tr>\n",
              "      <th>All</th>\n",
              "      <td>0.546120</td>\n",
              "      <td>0.065886</td>\n",
              "      <td>0.076135</td>\n",
              "      <td>0.055637</td>\n",
              "      <td>0.043924</td>\n",
              "      <td>0.036603</td>\n",
              "      <td>0.027818</td>\n",
              "      <td>0.040996</td>\n",
              "      <td>0.008785</td>\n",
              "      <td>0.098097</td>\n",
              "    </tr>\n",
              "  </tbody>\n",
              "</table>\n",
              "</div>\n",
              "      <button class=\"colab-df-convert\" onclick=\"convertToInteractive('df-405c0283-e455-4710-a9cf-549a6e58be2a')\"\n",
              "              title=\"Convert this dataframe to an interactive table.\"\n",
              "              style=\"display:none;\">\n",
              "        \n",
              "  <svg xmlns=\"http://www.w3.org/2000/svg\" height=\"24px\"viewBox=\"0 0 24 24\"\n",
              "       width=\"24px\">\n",
              "    <path d=\"M0 0h24v24H0V0z\" fill=\"none\"/>\n",
              "    <path d=\"M18.56 5.44l.94 2.06.94-2.06 2.06-.94-2.06-.94-.94-2.06-.94 2.06-2.06.94zm-11 1L8.5 8.5l.94-2.06 2.06-.94-2.06-.94L8.5 2.5l-.94 2.06-2.06.94zm10 10l.94 2.06.94-2.06 2.06-.94-2.06-.94-.94-2.06-.94 2.06-2.06.94z\"/><path d=\"M17.41 7.96l-1.37-1.37c-.4-.4-.92-.59-1.43-.59-.52 0-1.04.2-1.43.59L10.3 9.45l-7.72 7.72c-.78.78-.78 2.05 0 2.83L4 21.41c.39.39.9.59 1.41.59.51 0 1.02-.2 1.41-.59l7.78-7.78 2.81-2.81c.8-.78.8-2.07 0-2.86zM5.41 20L4 18.59l7.72-7.72 1.47 1.35L5.41 20z\"/>\n",
              "  </svg>\n",
              "      </button>\n",
              "      \n",
              "  <style>\n",
              "    .colab-df-container {\n",
              "      display:flex;\n",
              "      flex-wrap:wrap;\n",
              "      gap: 12px;\n",
              "    }\n",
              "\n",
              "    .colab-df-convert {\n",
              "      background-color: #E8F0FE;\n",
              "      border: none;\n",
              "      border-radius: 50%;\n",
              "      cursor: pointer;\n",
              "      display: none;\n",
              "      fill: #1967D2;\n",
              "      height: 32px;\n",
              "      padding: 0 0 0 0;\n",
              "      width: 32px;\n",
              "    }\n",
              "\n",
              "    .colab-df-convert:hover {\n",
              "      background-color: #E2EBFA;\n",
              "      box-shadow: 0px 1px 2px rgba(60, 64, 67, 0.3), 0px 1px 3px 1px rgba(60, 64, 67, 0.15);\n",
              "      fill: #174EA6;\n",
              "    }\n",
              "\n",
              "    [theme=dark] .colab-df-convert {\n",
              "      background-color: #3B4455;\n",
              "      fill: #D2E3FC;\n",
              "    }\n",
              "\n",
              "    [theme=dark] .colab-df-convert:hover {\n",
              "      background-color: #434B5C;\n",
              "      box-shadow: 0px 1px 3px 1px rgba(0, 0, 0, 0.15);\n",
              "      filter: drop-shadow(0px 1px 2px rgba(0, 0, 0, 0.3));\n",
              "      fill: #FFFFFF;\n",
              "    }\n",
              "  </style>\n",
              "\n",
              "      <script>\n",
              "        const buttonEl =\n",
              "          document.querySelector('#df-405c0283-e455-4710-a9cf-549a6e58be2a button.colab-df-convert');\n",
              "        buttonEl.style.display =\n",
              "          google.colab.kernel.accessAllowed ? 'block' : 'none';\n",
              "\n",
              "        async function convertToInteractive(key) {\n",
              "          const element = document.querySelector('#df-405c0283-e455-4710-a9cf-549a6e58be2a');\n",
              "          const dataTable =\n",
              "            await google.colab.kernel.invokeFunction('convertToInteractive',\n",
              "                                                     [key], {});\n",
              "          if (!dataTable) return;\n",
              "\n",
              "          const docLinkHtml = 'Like what you see? Visit the ' +\n",
              "            '<a target=\"_blank\" href=https://colab.research.google.com/notebooks/data_table.ipynb>data table notebook</a>'\n",
              "            + ' to learn more about interactive tables.';\n",
              "          element.innerHTML = '';\n",
              "          dataTable['output_type'] = 'display_data';\n",
              "          await google.colab.output.renderOutput(dataTable, element);\n",
              "          const docLink = document.createElement('div');\n",
              "          docLink.innerHTML = docLinkHtml;\n",
              "          element.appendChild(docLink);\n",
              "        }\n",
              "      </script>\n",
              "    </div>\n",
              "  </div>\n",
              "  "
            ]
          },
          "metadata": {},
          "execution_count": 27
        }
      ]
    },
    {
      "cell_type": "code",
      "source": [
        "pd.crosstab(index=df['Class'],\n",
        "            columns=df['menopause'], \n",
        "            margins = True, normalize = 'index').style.format(\"{:.0%}\").background_gradient(cmap='Reds', axis='index')"
      ],
      "metadata": {
        "colab": {
          "base_uri": "https://localhost:8080/",
          "height": 175
        },
        "id": "yIpQGdviXfe4",
        "outputId": "fd98e8c0-db86-41cf-c512-4f2593c75ee9"
      },
      "execution_count": 28,
      "outputs": [
        {
          "output_type": "execute_result",
          "data": {
            "text/plain": [
              "<pandas.io.formats.style.Styler at 0x7f2c07dcfd50>"
            ],
            "text/html": [
              "<style type=\"text/css\">\n",
              "#T_2edf1_row0_col0, #T_2edf1_row0_col1, #T_2edf1_row1_col2, #T_2edf1_row1_col3, #T_2edf1_row1_col4, #T_2edf1_row1_col5, #T_2edf1_row1_col6, #T_2edf1_row1_col7, #T_2edf1_row1_col8, #T_2edf1_row1_col9 {\n",
              "  background-color: #67000d;\n",
              "  color: #f1f1f1;\n",
              "}\n",
              "#T_2edf1_row0_col2, #T_2edf1_row0_col3, #T_2edf1_row0_col4, #T_2edf1_row0_col5, #T_2edf1_row0_col6, #T_2edf1_row0_col7, #T_2edf1_row0_col8, #T_2edf1_row0_col9, #T_2edf1_row1_col0, #T_2edf1_row1_col1 {\n",
              "  background-color: #fff5f0;\n",
              "  color: #000000;\n",
              "}\n",
              "#T_2edf1_row2_col0, #T_2edf1_row2_col1 {\n",
              "  background-color: #e83429;\n",
              "  color: #f1f1f1;\n",
              "}\n",
              "#T_2edf1_row2_col2, #T_2edf1_row2_col3, #T_2edf1_row2_col4, #T_2edf1_row2_col5, #T_2edf1_row2_col6, #T_2edf1_row2_col7, #T_2edf1_row2_col8, #T_2edf1_row2_col9 {\n",
              "  background-color: #fc9b7c;\n",
              "  color: #000000;\n",
              "}\n",
              "</style>\n",
              "<table id=\"T_2edf1_\" class=\"dataframe\">\n",
              "  <thead>\n",
              "    <tr>\n",
              "      <th class=\"index_name level0\" >menopause</th>\n",
              "      <th class=\"col_heading level0 col0\" >1</th>\n",
              "      <th class=\"col_heading level0 col1\" >2</th>\n",
              "      <th class=\"col_heading level0 col2\" >3</th>\n",
              "      <th class=\"col_heading level0 col3\" >4</th>\n",
              "      <th class=\"col_heading level0 col4\" >5</th>\n",
              "      <th class=\"col_heading level0 col5\" >6</th>\n",
              "      <th class=\"col_heading level0 col6\" >7</th>\n",
              "      <th class=\"col_heading level0 col7\" >8</th>\n",
              "      <th class=\"col_heading level0 col8\" >9</th>\n",
              "      <th class=\"col_heading level0 col9\" >10</th>\n",
              "    </tr>\n",
              "    <tr>\n",
              "      <th class=\"index_name level0\" >Class</th>\n",
              "      <th class=\"blank col0\" >&nbsp;</th>\n",
              "      <th class=\"blank col1\" >&nbsp;</th>\n",
              "      <th class=\"blank col2\" >&nbsp;</th>\n",
              "      <th class=\"blank col3\" >&nbsp;</th>\n",
              "      <th class=\"blank col4\" >&nbsp;</th>\n",
              "      <th class=\"blank col5\" >&nbsp;</th>\n",
              "      <th class=\"blank col6\" >&nbsp;</th>\n",
              "      <th class=\"blank col7\" >&nbsp;</th>\n",
              "      <th class=\"blank col8\" >&nbsp;</th>\n",
              "      <th class=\"blank col9\" >&nbsp;</th>\n",
              "    </tr>\n",
              "  </thead>\n",
              "  <tbody>\n",
              "    <tr>\n",
              "      <th id=\"T_2edf1_level0_row0\" class=\"row_heading level0 row0\" >0</th>\n",
              "      <td id=\"T_2edf1_row0_col0\" class=\"data row0 col0\" >83%</td>\n",
              "      <td id=\"T_2edf1_row0_col1\" class=\"data row0 col1\" >8%</td>\n",
              "      <td id=\"T_2edf1_row0_col2\" class=\"data row0 col2\" >6%</td>\n",
              "      <td id=\"T_2edf1_row0_col3\" class=\"data row0 col3\" >2%</td>\n",
              "      <td id=\"T_2edf1_row0_col4\" class=\"data row0 col4\" >0%</td>\n",
              "      <td id=\"T_2edf1_row0_col5\" class=\"data row0 col5\" >0%</td>\n",
              "      <td id=\"T_2edf1_row0_col6\" class=\"data row0 col6\" >0%</td>\n",
              "      <td id=\"T_2edf1_row0_col7\" class=\"data row0 col7\" >0%</td>\n",
              "      <td id=\"T_2edf1_row0_col8\" class=\"data row0 col8\" >0%</td>\n",
              "      <td id=\"T_2edf1_row0_col9\" class=\"data row0 col9\" >0%</td>\n",
              "    </tr>\n",
              "    <tr>\n",
              "      <th id=\"T_2edf1_level0_row1\" class=\"row_heading level0 row1\" >1</th>\n",
              "      <td id=\"T_2edf1_row1_col0\" class=\"data row1 col0\" >2%</td>\n",
              "      <td id=\"T_2edf1_row1_col1\" class=\"data row1 col1\" >3%</td>\n",
              "      <td id=\"T_2edf1_row1_col2\" class=\"data row1 col2\" >10%</td>\n",
              "      <td id=\"T_2edf1_row1_col3\" class=\"data row1 col3\" >13%</td>\n",
              "      <td id=\"T_2edf1_row1_col4\" class=\"data row1 col4\" >13%</td>\n",
              "      <td id=\"T_2edf1_row1_col5\" class=\"data row1 col5\" >10%</td>\n",
              "      <td id=\"T_2edf1_row1_col6\" class=\"data row1 col6\" >8%</td>\n",
              "      <td id=\"T_2edf1_row1_col7\" class=\"data row1 col7\" >11%</td>\n",
              "      <td id=\"T_2edf1_row1_col8\" class=\"data row1 col8\" >2%</td>\n",
              "      <td id=\"T_2edf1_row1_col9\" class=\"data row1 col9\" >28%</td>\n",
              "    </tr>\n",
              "    <tr>\n",
              "      <th id=\"T_2edf1_level0_row2\" class=\"row_heading level0 row2\" >All</th>\n",
              "      <td id=\"T_2edf1_row2_col0\" class=\"data row2 col0\" >55%</td>\n",
              "      <td id=\"T_2edf1_row2_col1\" class=\"data row2 col1\" >7%</td>\n",
              "      <td id=\"T_2edf1_row2_col2\" class=\"data row2 col2\" >8%</td>\n",
              "      <td id=\"T_2edf1_row2_col3\" class=\"data row2 col3\" >6%</td>\n",
              "      <td id=\"T_2edf1_row2_col4\" class=\"data row2 col4\" >4%</td>\n",
              "      <td id=\"T_2edf1_row2_col5\" class=\"data row2 col5\" >4%</td>\n",
              "      <td id=\"T_2edf1_row2_col6\" class=\"data row2 col6\" >3%</td>\n",
              "      <td id=\"T_2edf1_row2_col7\" class=\"data row2 col7\" >4%</td>\n",
              "      <td id=\"T_2edf1_row2_col8\" class=\"data row2 col8\" >1%</td>\n",
              "      <td id=\"T_2edf1_row2_col9\" class=\"data row2 col9\" >10%</td>\n",
              "    </tr>\n",
              "  </tbody>\n",
              "</table>\n"
            ]
          },
          "metadata": {},
          "execution_count": 28
        }
      ]
    },
    {
      "cell_type": "markdown",
      "source": [
        "#Exploratory data analysis: Visualization"
      ],
      "metadata": {
        "id": "RiSBEiQbPYEN"
      }
    },
    {
      "cell_type": "markdown",
      "source": [
        "In order to visulaize, convert the yes/no fields to numerical values by counting them."
      ],
      "metadata": {
        "id": "6mnePcnWeZHL"
      }
    },
    {
      "cell_type": "code",
      "source": [
        "from sklearn.model_selection import train_test_split"
      ],
      "metadata": {
        "id": "5ilhEyJf3CK3"
      },
      "execution_count": 32,
      "outputs": []
    },
    {
      "cell_type": "code",
      "source": [
        "features = df.drop('Class', axis=1)\n",
        "labels = df['Class']"
      ],
      "metadata": {
        "id": "4EOiLTw43Mx9"
      },
      "execution_count": 33,
      "outputs": []
    },
    {
      "cell_type": "code",
      "source": [
        "X_train, X_test, y_train, y_test = train_test_split(features, labels, test_size=0.4, random_state=42)\n",
        "X_test, X_val, y_test, y_val = train_test_split(X_test, y_test, test_size=0.5, random_state=42)"
      ],
      "metadata": {
        "id": "oqG9SXXI29Y5"
      },
      "execution_count": 34,
      "outputs": []
    },
    {
      "cell_type": "code",
      "source": [
        "print(len(labels), len(y_train), len(y_val), len(y_test))"
      ],
      "metadata": {
        "colab": {
          "base_uri": "https://localhost:8080/"
        },
        "id": "a4P2H18M3YQv",
        "outputId": "48c6c0d3-044d-43bb-a7c4-76bd8879008f"
      },
      "execution_count": 35,
      "outputs": [
        {
          "output_type": "stream",
          "name": "stdout",
          "text": [
            "683 409 137 137\n"
          ]
        }
      ]
    },
    {
      "cell_type": "code",
      "source": [
        "from sklearn.ensemble import RandomForestClassifier\n",
        "from sklearn.model_selection import cross_val_score\n",
        "import warnings\n",
        "warnings.filterwarnings(\"ignore\", category=FutureWarning)"
      ],
      "metadata": {
        "id": "vQMxnTNz4ltt"
      },
      "execution_count": 36,
      "outputs": []
    },
    {
      "cell_type": "code",
      "source": [
        "rf = RandomForestClassifier()\n",
        "\n",
        "scores = cross_val_score(rf, X_train, y_train.values.ravel(), cv=5)"
      ],
      "metadata": {
        "id": "F0JFd2xj4xWO"
      },
      "execution_count": 37,
      "outputs": []
    },
    {
      "cell_type": "code",
      "source": [
        "scores"
      ],
      "metadata": {
        "colab": {
          "base_uri": "https://localhost:8080/"
        },
        "id": "jHUIJlPk5BnD",
        "outputId": "67dbfddb-1714-4ddb-d123-864093dae66c"
      },
      "execution_count": 39,
      "outputs": [
        {
          "output_type": "execute_result",
          "data": {
            "text/plain": [
              "array([0.96341463, 0.93902439, 0.97560976, 0.98780488, 0.95061728])"
            ]
          },
          "metadata": {},
          "execution_count": 39
        }
      ]
    },
    {
      "cell_type": "code",
      "source": [
        "from sklearn.model_selection import GridSearchCV"
      ],
      "metadata": {
        "id": "SB4gexTL5nM9"
      },
      "execution_count": 41,
      "outputs": []
    },
    {
      "cell_type": "code",
      "source": [
        "def print_results(results):\n",
        "    print('BEST PARAMS: {}\\n'.format(results.best_params_))\n",
        "\n",
        "    means = results.cv_results_['mean_test_score']\n",
        "    stds = results.cv_results_['std_test_score']\n",
        "    for mean, std, params in zip(means, stds, results.cv_results_['params']):\n",
        "        print('{} (+/-{}) for {}'.format(round(mean, 3), round(std * 2, 3), params))"
      ],
      "metadata": {
        "id": "LlQLIhGx5bV7"
      },
      "execution_count": 40,
      "outputs": []
    },
    {
      "cell_type": "code",
      "source": [
        "rf = RandomForestClassifier()\n",
        "parameters = {\n",
        "    'n_estimators': [5, 50, 100],\n",
        "    'max_depth': [2, 10, 20, None]\n",
        "}\n",
        "\n",
        "cv = GridSearchCV(rf, parameters, cv=5)\n",
        "cv.fit(X_train, y_train.values.ravel())\n",
        "\n",
        "print_results(cv)"
      ],
      "metadata": {
        "colab": {
          "base_uri": "https://localhost:8080/"
        },
        "id": "mA0zpcR25crH",
        "outputId": "b2c8bc40-fa23-48f5-8410-263473e1c4c1"
      },
      "execution_count": 42,
      "outputs": [
        {
          "output_type": "stream",
          "name": "stdout",
          "text": [
            "BEST PARAMS: {'max_depth': None, 'n_estimators': 5}\n",
            "\n",
            "0.958 (+/-0.02) for {'max_depth': 2, 'n_estimators': 5}\n",
            "0.958 (+/-0.02) for {'max_depth': 2, 'n_estimators': 50}\n",
            "0.958 (+/-0.025) for {'max_depth': 2, 'n_estimators': 100}\n",
            "0.946 (+/-0.037) for {'max_depth': 10, 'n_estimators': 5}\n",
            "0.961 (+/-0.033) for {'max_depth': 10, 'n_estimators': 50}\n",
            "0.963 (+/-0.027) for {'max_depth': 10, 'n_estimators': 100}\n",
            "0.954 (+/-0.019) for {'max_depth': 20, 'n_estimators': 5}\n",
            "0.958 (+/-0.033) for {'max_depth': 20, 'n_estimators': 50}\n",
            "0.958 (+/-0.04) for {'max_depth': 20, 'n_estimators': 100}\n",
            "0.963 (+/-0.027) for {'max_depth': None, 'n_estimators': 5}\n",
            "0.963 (+/-0.035) for {'max_depth': None, 'n_estimators': 50}\n",
            "0.961 (+/-0.029) for {'max_depth': None, 'n_estimators': 100}\n"
          ]
        }
      ]
    },
    {
      "cell_type": "code",
      "source": [
        "rf1 = RandomForestClassifier(n_estimators=100, max_depth=10)\n",
        "rf1.fit(X_train, y_train.values.ravel())\n",
        "\n",
        "rf2 = RandomForestClassifier(n_estimators=5, max_depth=None)\n",
        "rf2.fit(X_train, y_train.values.ravel())\n",
        "\n",
        "rf3 = RandomForestClassifier(n_estimators=50, max_depth=None)\n",
        "rf3.fit(X_train, y_train.values.ravel())"
      ],
      "metadata": {
        "colab": {
          "base_uri": "https://localhost:8080/"
        },
        "id": "ncv2wTMh7DTH",
        "outputId": "9ead4ef1-b128-4e4d-d2d7-716ac1012616"
      },
      "execution_count": 43,
      "outputs": [
        {
          "output_type": "execute_result",
          "data": {
            "text/plain": [
              "RandomForestClassifier(n_estimators=50)"
            ]
          },
          "metadata": {},
          "execution_count": 43
        }
      ]
    },
    {
      "cell_type": "code",
      "source": [
        "from sklearn.metrics import accuracy_score, precision_score, recall_score"
      ],
      "metadata": {
        "id": "BYZKRgfX8L1g"
      },
      "execution_count": 45,
      "outputs": []
    },
    {
      "cell_type": "code",
      "source": [
        "for mdl in [rf1, rf2, rf3]:\n",
        "    y_pred = mdl.predict(X_val)\n",
        "    accuracy = round(accuracy_score(y_val, y_pred), 3)\n",
        "    precision = round(precision_score(y_val, y_pred), 3)\n",
        "    recall = round(recall_score(y_val, y_pred), 3)\n",
        "    print('MAX DEPTH: {} / # OF EST: {} -- A: {} / P: {} / R: {}'.format(mdl.max_depth,\n",
        "                                                                         mdl.n_estimators,\n",
        "                                                                         accuracy,\n",
        "                                                                         precision,\n",
        "                                                                         recall))"
      ],
      "metadata": {
        "colab": {
          "base_uri": "https://localhost:8080/"
        },
        "id": "qJvvmmNS7z1R",
        "outputId": "ed38804e-2b14-498a-8334-a1c138281f80"
      },
      "execution_count": 46,
      "outputs": [
        {
          "output_type": "stream",
          "name": "stdout",
          "text": [
            "MAX DEPTH: 10 / # OF EST: 100 -- A: 0.964 / P: 0.961 / R: 0.942\n",
            "MAX DEPTH: None / # OF EST: 5 -- A: 0.949 / P: 0.959 / R: 0.904\n",
            "MAX DEPTH: None / # OF EST: 50 -- A: 0.964 / P: 0.961 / R: 0.942\n"
          ]
        }
      ]
    },
    {
      "cell_type": "code",
      "source": [
        "y_pred = rf1.predict(X_test)\n",
        "accuracy = round(accuracy_score(y_test, y_pred), 3)\n",
        "precision = round(precision_score(y_test, y_pred), 3)\n",
        "recall = round(recall_score(y_test, y_pred), 3)\n",
        "print('MAX DEPTH: {} / # OF EST: {} -- A: {} / P: {} / R: {}'.format(rf1.max_depth,\n",
        "                                                                     rf1.n_estimators,\n",
        "                                                                     accuracy,\n",
        "                                                                     precision,\n",
        "                                                                     recall))"
      ],
      "metadata": {
        "colab": {
          "base_uri": "https://localhost:8080/"
        },
        "id": "43dFsujK-HrG",
        "outputId": "13b89cf9-6020-41e5-9e8b-82ae768dd051"
      },
      "execution_count": 49,
      "outputs": [
        {
          "output_type": "stream",
          "name": "stdout",
          "text": [
            "MAX DEPTH: 10 / # OF EST: 100 -- A: 0.964 / P: 0.978 / R: 0.917\n"
          ]
        }
      ]
    }
  ]
}